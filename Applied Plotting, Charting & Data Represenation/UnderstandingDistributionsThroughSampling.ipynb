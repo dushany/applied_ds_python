{
 "cells": [
  {
   "cell_type": "markdown",
   "metadata": {},
   "source": [
    "# Practice Assignment: Understanding Distributions Through Sampling\n",
    "\n",
    "** *This assignment is optional, and I encourage you to share your solutions with me and your peers in the discussion forums!* **\n",
    "\n",
    "\n",
    "To complete this assignment, create a code cell that:\n",
    "* Creates a number of subplots using the `pyplot subplots` or `matplotlib gridspec` functionality.\n",
    "* Creates an animation, pulling between 100 and 1000 samples from each of the random variables (`x1`, `x2`, `x3`, `x4`) for each plot and plotting this as we did in the lecture on animation.\n",
    "* **Bonus:** Go above and beyond and \"wow\" your classmates (and me!) by looking into matplotlib widgets and adding a widget which allows for parameterization of the distributions behind the sampling animations.\n",
    "\n",
    "\n",
    "Tips:\n",
    "* Before you start, think about the different ways you can create this visualization to be as interesting and effective as possible.\n",
    "* Take a look at the histograms below to get an idea of what the random variables look like, as well as their positioning with respect to one another. This is just a guide, so be creative in how you lay things out!\n",
    "* Try to keep the length of your animation reasonable (roughly between 10 and 30 seconds)."
   ]
  },
  {
   "cell_type": "code",
   "execution_count": null,
   "metadata": {
    "scrolled": true
   },
   "outputs": [],
   "source": [
    "import matplotlib.pyplot as plt\n",
    "import matplotlib.animation as animation\n",
    "import numpy as np\n",
    "\n",
    "n = 500\n",
    "\n",
    "# generate 4 random variables from the random, gamma, exponential, and uniform distributions\n",
    "x1 = np.random.normal(-2.5, 1, n)\n",
    "x2 = np.random.gamma(2, 1.5, n)\n",
    "x3 = np.random.exponential(2, n)+7\n",
    "x4 = np.random.uniform(14,20, n)\n",
    "\n",
    "fig, ((ax1, ax2),(ax3, ax4)) = plt.subplots(2,2)\n",
    "\n",
    "def update(curr):\n",
    "    if curr == n:\n",
    "        a. event_source.stop()\n",
    "    for ax in (ax1, ax2, ax3, ax4):\n",
    "        ax.cla()\n",
    "    ax1.hist(x1[:curr], bins = 'auto', color = 'red', alpha = 0.5, edgecolor = 'black')\n",
    "    ax1.set_title('normal')\n",
    "    ax2.hist(x2[:curr], bins = 'auto', color = 'green', alpha = 0.5, edgecolor = 'black')\n",
    "    ax2.set_title('gamma')\n",
    "    ax3.hist(x3[:curr], bins = 'auto', color = 'blue', alpha = 0.5, edgecolor = 'black')\n",
    "    ax3.set_title('exponential')\n",
    "    ax4.hist(x4[:curr], bins = 'auto', color = 'grey', alpha = 0.5, edgecolor = 'black')\n",
    "    ax4.set_title('uniform')\n",
    "    plt.tight_layout()\n",
    "    plt.subplots_adjust(top = 0.85)\n",
    "    plt.suptitle('n = {}'.format(curr))\n",
    "    \n",
    "a = animation.FuncAnimation(fig, update, frames = np.arange(0,n,10), interval = 400)\n",
    "a.save('./distributions.gif', writer = 'imagemagick')"
   ]
  },
  {
   "cell_type": "code",
   "execution_count": null,
   "metadata": {},
   "outputs": [],
   "source": []
  }
 ],
 "metadata": {
  "kernelspec": {
   "display_name": "Python 3",
   "language": "python",
   "name": "python3"
  },
  "language_info": {
   "codemirror_mode": {
    "name": "ipython",
    "version": 3
   },
   "file_extension": ".py",
   "mimetype": "text/x-python",
   "name": "python",
   "nbconvert_exporter": "python",
   "pygments_lexer": "ipython3",
   "version": "3.6.3"
  }
 },
 "nbformat": 4,
 "nbformat_minor": 2
}
